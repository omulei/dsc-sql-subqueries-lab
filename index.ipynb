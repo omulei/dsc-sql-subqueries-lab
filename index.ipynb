{
 "cells": [
  {
   "cell_type": "markdown",
   "metadata": {},
   "source": [
    "# SQL Subqueries - Lab\n",
    "\n",
    "## Introduction\n",
    "\n",
    "Now that you've seen how subqueries work, it's time to get some practice writing them! Not all of the queries will require subqueries, but all will be a bit more complex and require some thought and review about aggregates, grouping, ordering, filtering, joins and subqueries. Good luck!  \n",
    "\n",
    "## Objectives\n",
    "\n",
    "You will be able to:\n",
    "\n",
    "* Write subqueries to decompose complex queries\n",
    "\n",
    "## CRM Database ERD\n",
    "\n",
    "Once again, here's the schema for the CRM database you'll continue to practice with.\n",
    "\n",
    "<img src=\"images/Database-Schema.png\" width=\"600\">\n",
    "\n",
    "## Connect to the Database\n",
    "\n",
    "As usual, start by importing the necessary packages and connecting to the database `data.sqlite`."
   ]
  },
  {
   "cell_type": "code",
   "execution_count": 1,
   "metadata": {},
   "outputs": [],
   "source": [
    "import pandas as pd\n",
    "import sqlite3"
   ]
  },
  {
   "cell_type": "code",
   "execution_count": 2,
   "metadata": {},
   "outputs": [],
   "source": [
    "# Connect to the database\n",
    "conn = sqlite3.connect('data.sqlite')\n",
    "\n",
    "# Create a cursor object to interact with the database\n",
    "cursor = conn.cursor()"
   ]
  },
  {
   "cell_type": "markdown",
   "metadata": {},
   "source": [
    "## Write an Equivalent Query using a Subquery\n",
    "\n",
    "The following query works using a `JOIN`. Rewrite it so that it uses a subquery instead.\n",
    "\n",
    "```\n",
    "SELECT\n",
    "    customerNumber,\n",
    "    contactLastName,\n",
    "    contactFirstName\n",
    "FROM customers\n",
    "JOIN orders \n",
    "    USING(customerNumber)\n",
    "WHERE orderDate = '2003-01-31'\n",
    ";\n",
    "```"
   ]
  },
  {
   "cell_type": "code",
   "execution_count": 3,
   "metadata": {},
   "outputs": [
    {
     "name": "stdout",
     "output_type": "stream",
     "text": [
      "   customerNumber contactLastName contactFirstName\n",
      "0             141          Freyre           Diego \n"
     ]
    }
   ],
   "source": [
    "\n",
    "# Define the SQL query\n",
    "query = '''\n",
    "SELECT\n",
    "    customerNumber,\n",
    "    contactLastName,\n",
    "    contactFirstName\n",
    "FROM customers\n",
    "WHERE customerNumber IN (\n",
    "    SELECT customerNumber\n",
    "    FROM orders\n",
    "    WHERE orderDate = '2003-01-31'\n",
    ")\n",
    "'''\n",
    "\n",
    "# Execute the query and fetch the results into a DataFrame\n",
    "df = pd.read_sql(query, conn)\n",
    "\n",
    "# Display the DataFrame\n",
    "print(df)\n"
   ]
  },
  {
   "cell_type": "markdown",
   "metadata": {},
   "source": [
    "### In this query, the subquery (SELECT customerNumber FROM orders WHERE orderDate = '2003-01-31') is used to retrieve the customer numbers for orders placed on January 31, 2003. The outer query then selects the customer \n",
    "\n",
    "### By using the IN operator with the subquery, we can filter the rows from the customers table based on the customer numbers returned by the subquery. This achieves the same result as the original query with a JOIN."
   ]
  },
  {
   "cell_type": "markdown",
   "metadata": {},
   "source": [
    "## Select the Total Number of Orders for Each Product Name\n",
    "\n",
    "Sort the results by the total number of items sold for that product."
   ]
  },
  {
   "cell_type": "code",
   "execution_count": 4,
   "metadata": {},
   "outputs": [
    {
     "data": {
      "text/html": [
       "<div>\n",
       "<style scoped>\n",
       "    .dataframe tbody tr th:only-of-type {\n",
       "        vertical-align: middle;\n",
       "    }\n",
       "\n",
       "    .dataframe tbody tr th {\n",
       "        vertical-align: top;\n",
       "    }\n",
       "\n",
       "    .dataframe thead th {\n",
       "        text-align: right;\n",
       "    }\n",
       "</style>\n",
       "<table border=\"1\" class=\"dataframe\">\n",
       "  <thead>\n",
       "    <tr style=\"text-align: right;\">\n",
       "      <th></th>\n",
       "      <th>productName</th>\n",
       "      <th>totalItemsSold</th>\n",
       "    </tr>\n",
       "  </thead>\n",
       "  <tbody>\n",
       "    <tr>\n",
       "      <th>0</th>\n",
       "      <td>1992 Ferrari 360 Spider red</td>\n",
       "      <td>1808.0</td>\n",
       "    </tr>\n",
       "    <tr>\n",
       "      <th>1</th>\n",
       "      <td>1937 Lincoln Berline</td>\n",
       "      <td>1111.0</td>\n",
       "    </tr>\n",
       "    <tr>\n",
       "      <th>2</th>\n",
       "      <td>American Airlines: MD-11S</td>\n",
       "      <td>1085.0</td>\n",
       "    </tr>\n",
       "    <tr>\n",
       "      <th>3</th>\n",
       "      <td>1941 Chevrolet Special Deluxe Cabriolet</td>\n",
       "      <td>1076.0</td>\n",
       "    </tr>\n",
       "    <tr>\n",
       "      <th>4</th>\n",
       "      <td>1930 Buick Marquette Phaeton</td>\n",
       "      <td>1074.0</td>\n",
       "    </tr>\n",
       "    <tr>\n",
       "      <th>...</th>\n",
       "      <td>...</td>\n",
       "      <td>...</td>\n",
       "    </tr>\n",
       "    <tr>\n",
       "      <th>105</th>\n",
       "      <td>1911 Ford Town Car</td>\n",
       "      <td>832.0</td>\n",
       "    </tr>\n",
       "    <tr>\n",
       "      <th>106</th>\n",
       "      <td>1936 Mercedes Benz 500k Roadster</td>\n",
       "      <td>824.0</td>\n",
       "    </tr>\n",
       "    <tr>\n",
       "      <th>107</th>\n",
       "      <td>1970 Chevy Chevelle SS 454</td>\n",
       "      <td>803.0</td>\n",
       "    </tr>\n",
       "    <tr>\n",
       "      <th>108</th>\n",
       "      <td>1957 Ford Thunderbird</td>\n",
       "      <td>767.0</td>\n",
       "    </tr>\n",
       "    <tr>\n",
       "      <th>109</th>\n",
       "      <td>1985 Toyota Supra</td>\n",
       "      <td>NaN</td>\n",
       "    </tr>\n",
       "  </tbody>\n",
       "</table>\n",
       "<p>110 rows × 2 columns</p>\n",
       "</div>"
      ],
      "text/plain": [
       "                                 productName  totalItemsSold\n",
       "0                1992 Ferrari 360 Spider red          1808.0\n",
       "1                       1937 Lincoln Berline          1111.0\n",
       "2                  American Airlines: MD-11S          1085.0\n",
       "3    1941 Chevrolet Special Deluxe Cabriolet          1076.0\n",
       "4               1930 Buick Marquette Phaeton          1074.0\n",
       "..                                       ...             ...\n",
       "105                       1911 Ford Town Car           832.0\n",
       "106         1936 Mercedes Benz 500k Roadster           824.0\n",
       "107               1970 Chevy Chevelle SS 454           803.0\n",
       "108                    1957 Ford Thunderbird           767.0\n",
       "109                        1985 Toyota Supra             NaN\n",
       "\n",
       "[110 rows x 2 columns]"
      ]
     },
     "execution_count": 4,
     "metadata": {},
     "output_type": "execute_result"
    }
   ],
   "source": [
    "import pandas as pd\n",
    "import sqlite3\n",
    "\n",
    "# Connect to the database\n",
    "conn = sqlite3.connect('data.sqlite')\n",
    "\n",
    "# Define the SQL query\n",
    "query = '''\n",
    "SELECT\n",
    "    p.productName,\n",
    "    (\n",
    "        SELECT SUM(od.quantityOrdered)\n",
    "        FROM orderDetails od\n",
    "        WHERE od.productCode = p.productCode\n",
    "    ) AS totalItemsSold\n",
    "FROM products p\n",
    "ORDER BY totalItemsSold DESC\n",
    "'''\n",
    "\n",
    "# Execute the query and fetch the results into a DataFrame\n",
    "df = pd.read_sql(query, conn)\n",
    "\n",
    "# Display the DataFrame\n",
    "df\n"
   ]
  },
  {
   "cell_type": "markdown",
   "metadata": {},
   "source": [
    "## Select the Product Name and the  Total Number of People Who Have Ordered Each Product\n",
    "\n",
    "Sort the results in descending order."
   ]
  },
  {
   "cell_type": "markdown",
   "metadata": {},
   "source": [
    "### A quick note on the SQL  `SELECT DISTINCT` statement:"
   ]
  },
  {
   "cell_type": "markdown",
   "metadata": {},
   "source": [
    "The `SELECT DISTINCT` statement is used to return only distinct values in the specified column. In other words, it removes the duplicate values in the column from the result set.\n",
    "\n",
    "Inside a table, a column often contains many duplicate values; and sometimes you only want to list the unique values. If you apply the `DISTINCT` clause to a column that has `NULL`, the `DISTINCT` clause will keep only one NULL and eliminates the other. In other words, the DISTINCT clause treats all `NULL` “values” as the same value."
   ]
  },
  {
   "cell_type": "code",
   "execution_count": 5,
   "metadata": {},
   "outputs": [
    {
     "name": "stdout",
     "output_type": "stream",
     "text": [
      "                     productName  totalCustomers\n",
      "0    1992 Ferrari 360 Spider red              40\n",
      "1       1952 Alpine Renault 1300              27\n",
      "2            1972 Alfa Romeo GTA              27\n",
      "3             1934 Ford V8 Coupe              27\n",
      "4               Boeing X-32A JSF              27\n",
      "..                           ...             ...\n",
      "105           1949 Jaguar XK 120              18\n",
      "106            1952 Citroen-15CV              18\n",
      "107    1969 Chevrolet Camaro Z28              18\n",
      "108          2002 Chevy Corvette              18\n",
      "109            1985 Toyota Supra               0\n",
      "\n",
      "[110 rows x 2 columns]\n"
     ]
    }
   ],
   "source": [
    "# Your code here\n",
    "# Hint: because one of the tables we'll be joining has duplicate customer numbers, you should use DISTINCT\n",
    "\n",
    "\n",
    "# Define the SQL query\n",
    "query = '''\n",
    "SELECT\n",
    "    p.productName,\n",
    "    (\n",
    "        SELECT COUNT(DISTINCT o.customerNumber)\n",
    "        FROM orders o\n",
    "        JOIN orderDetails od \n",
    "            ON o.orderNumber = od.orderNumber\n",
    "        WHERE od.productCode = p.productCode\n",
    "    ) AS totalCustomers\n",
    "FROM products p\n",
    "ORDER BY totalCustomers DESC\n",
    "'''\n",
    "\n",
    "# Execute the query and fetch the results into a DataFrame\n",
    "df = pd.read_sql(query, conn)\n",
    "\n",
    "# Display the DataFrame\n",
    "print(df)\n"
   ]
  },
  {
   "cell_type": "markdown",
   "metadata": {},
   "source": [
    "## Select the Employee Number, First Name, Last Name, City (of the office), and Office Code of the Employees Who Sold Products That Have Been Ordered by Fewer Than 20 people.\n",
    "\n",
    "This problem is a bit tougher. To start, think about how you might break the problem up. Be sure that your results only list each employee once."
   ]
  },
  {
   "cell_type": "code",
   "execution_count": 6,
   "metadata": {},
   "outputs": [
    {
     "name": "stdout",
     "output_type": "stream",
     "text": [
      "    employeeNumber firstName   lastName           city  officeCode\n",
      "0             1165    Leslie   Jennings  San Francisco           1\n",
      "1             1166    Leslie   Thompson  San Francisco           1\n",
      "2             1188     Julie   Firrelli         Boston           2\n",
      "3             1216     Steve  Patterson         Boston           2\n",
      "4             1286  Foon Yue      Tseng            NYC           3\n",
      "5             1323    George     Vanauf            NYC           3\n",
      "6             1337      Loui     Bondur          Paris           4\n",
      "7             1370    Gerard  Hernandez          Paris           4\n",
      "8             1401    Pamela   Castillo          Paris           4\n",
      "9             1501     Larry       Bott         London           7\n",
      "10            1504     Barry      Jones         London           7\n",
      "11            1611      Andy     Fixter         Sydney           6\n",
      "12            1612     Peter      Marsh         Sydney           6\n",
      "13            1621      Mami      Nishi          Tokyo           5\n",
      "14            1702    Martin     Gerard          Paris           4\n"
     ]
    }
   ],
   "source": [
    "\n",
    "# Define the SQL query\n",
    "query = '''\n",
    "SELECT DISTINCT\n",
    "    e.employeeNumber,\n",
    "    e.firstName,\n",
    "    e.lastName,\n",
    "    o.city,\n",
    "    e.officeCode\n",
    "FROM employees e\n",
    "JOIN offices o ON e.officeCode = o.officeCode\n",
    "WHERE e.employeeNumber IN (\n",
    "    SELECT DISTINCT e.employeeNumber\n",
    "    FROM employees e\n",
    "    JOIN customers c ON e.employeeNumber = c.salesRepEmployeeNumber\n",
    "    JOIN orders o ON c.customerNumber = o.customerNumber\n",
    "    JOIN orderDetails od ON o.orderNumber = od.orderNumber\n",
    "    WHERE od.productCode IN (\n",
    "        SELECT p.productCode\n",
    "        FROM products p\n",
    "        JOIN orderDetails od ON p.productCode = od.productCode\n",
    "        JOIN orders o ON od.orderNumber = o.orderNumber\n",
    "        GROUP BY od.productCode\n",
    "        HAVING COUNT(DISTINCT o.customerNumber) < 20\n",
    "    )\n",
    ")\n",
    "'''\n",
    "\n",
    "# Execute the query and fetch the results into a DataFrame\n",
    "df = pd.read_sql(query, conn)\n",
    "\n",
    "# Display the DataFrame\n",
    "print(df)\n"
   ]
  },
  {
   "cell_type": "markdown",
   "metadata": {},
   "source": [
    "### To solve this problem, we can break it down into the following steps:\n",
    "\n",
    "1. Identify the product codes that have been ordered by fewer than 20 people.\n",
    "2. Find the employees who have sold those products.\n",
    "3. Retrieve the employee number, first name, last name, city (of the office), and office code for each employee.\n",
    "4. Ensure that each employee is listed only once.\n",
    "\n",
    "Here's the query to accomplish these steps using aliases and subqueries:\n",
    "\n",
    "```python\n",
    "import pandas as pd\n",
    "import sqlite3\n",
    "\n",
    "# Connect to the database\n",
    "conn = sqlite3.connect('data.sqlite')\n",
    "\n",
    "# Define the SQL query\n",
    "query = '''\n",
    "SELECT DISTINCT\n",
    "    e.employeeNumber,\n",
    "    e.firstName,\n",
    "    e.lastName,\n",
    "    o.city,\n",
    "    e.officeCode\n",
    "FROM employees e\n",
    "JOIN offices o ON e.officeCode = o.officeCode\n",
    "WHERE e.employeeNumber IN (\n",
    "    SELECT DISTINCT e.employeeNumber\n",
    "    FROM employees e\n",
    "    JOIN customers c ON e.employeeNumber = c.salesRepEmployeeNumber\n",
    "    JOIN orders o ON c.customerNumber = o.customerNumber\n",
    "    JOIN orderDetails od ON o.orderNumber = od.orderNumber\n",
    "    WHERE od.productCode IN (\n",
    "        SELECT p.productCode\n",
    "        FROM products p\n",
    "        JOIN orderDetails od ON p.productCode = od.productCode\n",
    "        JOIN orders o ON od.orderNumber = o.orderNumber\n",
    "        GROUP BY od.productCode\n",
    "        HAVING COUNT(DISTINCT o.customerNumber) < 20\n",
    "    )\n",
    ")\n",
    "'''\n",
    "\n",
    "# Execute the query and fetch the results into a DataFrame\n",
    "df = pd.read_sql(query, conn)\n",
    "\n",
    "# Close the database connection\n",
    "conn.close()\n",
    "\n",
    "# Display the DataFrame\n",
    "print(df)\n",
    "```\n",
    "\n",
    "In this query, we use multiple subqueries to achieve the desired result. \n",
    "\n",
    "The innermost subquery `(SELECT p.productCode FROM products p JOIN orderDetails od ON p.productCode = od.productCode JOIN orders o ON od.orderNumber = o.orderNumber GROUP BY od.productCode HAVING COUNT(DISTINCT o.customerNumber) < 20)` retrieves the product codes that have been ordered by fewer than 20 people.\n",
    "\n",
    "The next subquery `(SELECT DISTINCT e.employeeNumber FROM employees e JOIN customers c ON e.employeeNumber = c.salesRepEmployeeNumber JOIN orders o ON c.customerNumber = o.customerNumber JOIN orderDetails od ON o.orderNumber = od.orderNumber WHERE od.productCode IN (...))` identifies the employee numbers of those employees who have sold the products from the previous subquery.\n",
    "\n",
    "Finally, the main query retrieves the employee number, first name, last name, city (of the office), and office code for each employee from the `employees` and `offices` tables. The `DISTINCT` keyword is used to ensure that each employee is listed only once.\n",
    "\n",
    "The query results are fetched into a Pandas DataFrame using `pd.read_sql()`, and then the DataFrame is printed to display the retrieved data."
   ]
  },
  {
   "cell_type": "markdown",
   "metadata": {},
   "source": [
    "## Select the Employee Number, First Name, Last Name, and Number of Customers for Employees Whose Customers Have an Average Credit Limit Over 15K"
   ]
  },
  {
   "cell_type": "code",
   "execution_count": 7,
   "metadata": {},
   "outputs": [
    {
     "name": "stdout",
     "output_type": "stream",
     "text": [
      "    employeeNumber firstName   lastName  numCustomers\n",
      "0             1165    Leslie   Jennings             1\n",
      "1             1166    Leslie   Thompson             1\n",
      "2             1188     Julie   Firrelli             1\n",
      "3             1216     Steve  Patterson             1\n",
      "4             1286  Foon Yue      Tseng             1\n",
      "5             1323    George     Vanauf             1\n",
      "6             1337      Loui     Bondur             1\n",
      "7             1370    Gerard  Hernandez             1\n",
      "8             1401    Pamela   Castillo             1\n",
      "9             1501     Larry       Bott             1\n",
      "10            1504     Barry      Jones             1\n",
      "11            1611      Andy     Fixter             1\n",
      "12            1612     Peter      Marsh             1\n",
      "13            1621      Mami      Nishi             1\n",
      "14            1702    Martin     Gerard             1\n"
     ]
    }
   ],
   "source": [
    "# Define the SQL query\n",
    "query = '''\n",
    "SELECT\n",
    "    e.employeeNumber,\n",
    "    e.firstName,\n",
    "    e.lastName,\n",
    "    COUNT(c.customerNumber) AS numCustomers\n",
    "FROM\n",
    "    employees e\n",
    "JOIN\n",
    "    customers c ON e.employeeNumber = c.salesRepEmployeeNumber\n",
    "WHERE\n",
    "    c.customerNumber IN (\n",
    "        SELECT\n",
    "            customerNumber\n",
    "        FROM\n",
    "            customers\n",
    "        GROUP BY\n",
    "            salesRepEmployeeNumber\n",
    "        HAVING\n",
    "            AVG(creditLimit) > 15000\n",
    "    )\n",
    "GROUP BY\n",
    "    e.employeeNumber,\n",
    "    e.firstName,\n",
    "    e.lastName\n",
    "'''\n",
    "\n",
    "# Execute the query and fetch the results into a DataFrame\n",
    "df = pd.read_sql(query, conn)\n",
    "\n",
    "\n",
    "# Display the DataFrame\n",
    "print(df)\n"
   ]
  },
  {
   "cell_type": "markdown",
   "metadata": {},
   "source": [
    "## The steps involved in the query:\n",
    "\n",
    "1. Join the `employees` and `customers` tables on the `employeeNumber` and `salesRepEmployeeNumber` columns, respectively.\n",
    "2. In the subquery `(SELECT c2.customerNumber FROM customers c2 GROUP BY c2.customerNumber HAVING AVG(c2.creditLimit) > 15000)`, group the customers by their customer number and filter them based on their average credit limit being greater than 15,000.\n",
    "3. Use the `WHERE` clause in the main query to check if the customer number of each customer is present in the subquery results. This filters out the employees whose customers have an average credit limit over 15,000.\n",
    "4. Use the `GROUP BY` clause to group the results by the employee number.\n",
    "5. Use the `COUNT()` function to calculate the number of customers for each employee.\n",
    "6. Select the employee number, first name, last name, and the count of customers as `numCustomers` in the final result set.\n",
    "\n",
    "The query results are fetched into a Pandas DataFrame using `pd.read_sql()`, and then the DataFrame is printed to display the retrieved data."
   ]
  },
  {
   "cell_type": "markdown",
   "metadata": {},
   "source": [
    "## Summary\n",
    "\n",
    "In this lesson, you got to practice some more complex SQL queries, some of which required subqueries. There's still plenty more SQL to be had though; hope you've been enjoying some of these puzzles!"
   ]
  },
  {
   "cell_type": "code",
   "execution_count": 8,
   "metadata": {},
   "outputs": [],
   "source": [
    "# Close the database connection\n",
    "conn.close()"
   ]
  }
 ],
 "metadata": {
  "kernelspec": {
   "display_name": "Python 3",
   "language": "python",
   "name": "python3"
  },
  "language_info": {
   "codemirror_mode": {
    "name": "ipython",
    "version": 3
   },
   "file_extension": ".py",
   "mimetype": "text/x-python",
   "name": "python",
   "nbconvert_exporter": "python",
   "pygments_lexer": "ipython3",
   "version": "3.8.5"
  },
  "toc": {
   "base_numbering": 1,
   "nav_menu": {},
   "number_sections": true,
   "sideBar": true,
   "skip_h1_title": false,
   "title_cell": "Table of Contents",
   "title_sidebar": "Contents",
   "toc_cell": false,
   "toc_position": {},
   "toc_section_display": true,
   "toc_window_display": false
  }
 },
 "nbformat": 4,
 "nbformat_minor": 2
}
